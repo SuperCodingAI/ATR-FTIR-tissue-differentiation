{
 "cells": [
  {
   "cell_type": "code",
   "execution_count": 28,
   "id": "2196cf67",
   "metadata": {},
   "outputs": [],
   "source": [
    "import os\n",
    "import numpy as np\n",
    "\n",
    "# Pfad zum Ordner mit den normalisierten Spektren\n",
    "folder_path = \"/Users/leokavallaris/FTIR ATR/Spectra OE RE/normalized_OE_RE\"\n",
    "# Pfad zum Ordner für die geschnittenen Spektren\n",
    "output_folder_path = \"/Users/leokavallaris/FTIR ATR/Spectra OE RE/122\"\n",
    "\n",
    "# Erzeuge die Wellenzahlen\n",
    "start_wn = 5000  # Gesamter Bereich\n",
    "end_wn = 400  # Gesamter Bereich\n",
    "desired_range = np.arange(1800, 901, dtype=int)\n",
    "\n",
    "# Durch die CSV-Dateien im Ordner iterieren\n",
    "for file_name in os.listdir(folder_path):\n",
    "    if file_name.endswith(\"_normalized.csv\"):\n",
    "        # Lese die normalisierten Spektraldaten ein\n",
    "        file_path = os.path.join(folder_path, file_name)\n",
    "        normalized_absorbance = np.loadtxt(file_path, delimiter=',')\n",
    "        \n",
    "        # Schneide die normalisierten Spektraldaten auf den gewünschten Bereich\n",
    "        # Indizes für den Start und das Ende des gewünschten Wellenlängenbereichs\n",
    "        start_index = int((start_wn - 1800) / (5000 - 400) * len(normalized_absorbance))\n",
    "        end_index = int((start_wn - 900) / (5000 - 400) * len(normalized_absorbance))\n",
    "\n",
    "# Schneide die normalisierten Spektraldaten auf den gewünschten Bereich\n",
    "        cut_normalized_absorbance = normalized_absorbance[start_index:end_index]\n",
    "\n",
    "# Alternativ können Sie die NumPy-Indizierung verwenden:\n",
    "# start_index = np.where(wavenumbers >= 1800)[0][0]\n",
    "# end_index = np.where(wavenumbers <= 900)[0][-1]\n",
    "# cut_normalized_absorbance = normalized_absorbance[start_index:end_index+1]\n",
    "\n",
    "        # Erzeuge den Dateinamen für das geschnittene Spektrum\n",
    "        cut_file_name = file_name.replace(\"_normalized.csv\", \"_cut.csv\")\n",
    "        # Pfad für das geschnittene Spektrum\n",
    "        cut_file_path = os.path.join(output_folder_path, cut_file_name)\n",
    "\n",
    "        # Speichere das geschnittene Spektrum\n",
    "        np.savetxt(cut_file_path, cut_normalized_absorbance, delimiter=',')\n",
    "\n",
    "\n",
    "\n"
   ]
  },
  {
   "cell_type": "code",
   "execution_count": null,
   "id": "67767924",
   "metadata": {},
   "outputs": [],
   "source": []
  },
  {
   "cell_type": "code",
   "execution_count": null,
   "id": "3b2deb71",
   "metadata": {},
   "outputs": [],
   "source": []
  }
 ],
 "metadata": {
  "kernelspec": {
   "display_name": "Python 3 (ipykernel)",
   "language": "python",
   "name": "python3"
  },
  "language_info": {
   "codemirror_mode": {
    "name": "ipython",
    "version": 3
   },
   "file_extension": ".py",
   "mimetype": "text/x-python",
   "name": "python",
   "nbconvert_exporter": "python",
   "pygments_lexer": "ipython3",
   "version": "3.11.5"
  }
 },
 "nbformat": 4,
 "nbformat_minor": 5
}
