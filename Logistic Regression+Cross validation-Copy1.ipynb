{
 "cells": [
  {
   "cell_type": "code",
   "execution_count": 1,
   "id": "1753a47a",
   "metadata": {},
   "outputs": [],
   "source": [
    "import os\n",
    "import pandas as pd\n",
    "from sklearn.model_selection import train_test_split, cross_val_score\n",
    "from sklearn.linear_model import LogisticRegression\n",
    "from sklearn.metrics import accuracy_score, classification_report, confusion_matrix\n",
    "import matplotlib.pyplot as plt\n",
    "import seaborn as sns\n",
    "from sklearn.preprocessing import StandardScaler\n",
    "import numpy as np"
   ]
  },
  {
   "cell_type": "code",
   "execution_count": 2,
   "id": "697660ce",
   "metadata": {},
   "outputs": [
    {
     "name": "stdout",
     "output_type": "stream",
     "text": [
      "Collecting shap\n",
      "  Obtaining dependency information for shap from https://files.pythonhosted.org/packages/dc/53/15b0fdb9e7285be11cf51deaf62705645651ae296d5db076dc4b6881c97b/shap-0.45.0-cp311-cp311-macosx_11_0_arm64.whl.metadata\n",
      "  Downloading shap-0.45.0-cp311-cp311-macosx_11_0_arm64.whl.metadata (24 kB)\n",
      "Requirement already satisfied: numpy in /Users/leokavallaris/anaconda3/lib/python3.11/site-packages (from shap) (1.24.3)\n",
      "Requirement already satisfied: scipy in /Users/leokavallaris/anaconda3/lib/python3.11/site-packages (from shap) (1.11.1)\n",
      "Requirement already satisfied: scikit-learn in /Users/leokavallaris/anaconda3/lib/python3.11/site-packages (from shap) (1.3.0)\n",
      "Requirement already satisfied: pandas in /Users/leokavallaris/anaconda3/lib/python3.11/site-packages (from shap) (2.0.3)\n",
      "Requirement already satisfied: tqdm>=4.27.0 in /Users/leokavallaris/anaconda3/lib/python3.11/site-packages (from shap) (4.65.0)\n",
      "Requirement already satisfied: packaging>20.9 in /Users/leokavallaris/anaconda3/lib/python3.11/site-packages (from shap) (23.1)\n",
      "Collecting slicer==0.0.7 (from shap)\n",
      "  Obtaining dependency information for slicer==0.0.7 from https://files.pythonhosted.org/packages/78/c2/b3f55dfdb8af9812fdb9baf70cacf3b9e82e505b2bd4324d588888b81202/slicer-0.0.7-py3-none-any.whl.metadata\n",
      "  Downloading slicer-0.0.7-py3-none-any.whl.metadata (3.7 kB)\n",
      "Requirement already satisfied: numba in /Users/leokavallaris/anaconda3/lib/python3.11/site-packages (from shap) (0.57.1)\n",
      "Requirement already satisfied: cloudpickle in /Users/leokavallaris/anaconda3/lib/python3.11/site-packages (from shap) (2.2.1)\n",
      "Requirement already satisfied: llvmlite<0.41,>=0.40.0dev0 in /Users/leokavallaris/anaconda3/lib/python3.11/site-packages (from numba->shap) (0.40.0)\n",
      "Requirement already satisfied: python-dateutil>=2.8.2 in /Users/leokavallaris/anaconda3/lib/python3.11/site-packages (from pandas->shap) (2.8.2)\n",
      "Requirement already satisfied: pytz>=2020.1 in /Users/leokavallaris/anaconda3/lib/python3.11/site-packages (from pandas->shap) (2023.3.post1)\n",
      "Requirement already satisfied: tzdata>=2022.1 in /Users/leokavallaris/anaconda3/lib/python3.11/site-packages (from pandas->shap) (2023.3)\n",
      "Requirement already satisfied: joblib>=1.1.1 in /Users/leokavallaris/anaconda3/lib/python3.11/site-packages (from scikit-learn->shap) (1.2.0)\n",
      "Requirement already satisfied: threadpoolctl>=2.0.0 in /Users/leokavallaris/anaconda3/lib/python3.11/site-packages (from scikit-learn->shap) (2.2.0)\n",
      "Requirement already satisfied: six>=1.5 in /Users/leokavallaris/anaconda3/lib/python3.11/site-packages (from python-dateutil>=2.8.2->pandas->shap) (1.16.0)\n",
      "Downloading shap-0.45.0-cp311-cp311-macosx_11_0_arm64.whl (452 kB)\n",
      "\u001b[2K   \u001b[90m━━━━━━━━━━━━━━━━━━━━━━━━━━━━━━━━━━━━━━━━\u001b[0m \u001b[32m452.1/452.1 kB\u001b[0m \u001b[31m7.0 MB/s\u001b[0m eta \u001b[36m0:00:00\u001b[0ma \u001b[36m0:00:01\u001b[0m\n",
      "\u001b[?25hDownloading slicer-0.0.7-py3-none-any.whl (14 kB)\n",
      "Installing collected packages: slicer, shap\n",
      "Successfully installed shap-0.45.0 slicer-0.0.7\n"
     ]
    }
   ],
   "source": [
    "# Funktion zum Einlesen der Spektren aus den CSV-Dateien\n",
    "!pip install shap\n"
   ]
  },
  {
   "cell_type": "code",
   "execution_count": 3,
   "id": "9375e8e2",
   "metadata": {},
   "outputs": [],
   "source": [
    "import shap"
   ]
  },
  {
   "cell_type": "code",
   "execution_count": 5,
   "id": "f518d2d0",
   "metadata": {},
   "outputs": [
    {
     "name": "stdout",
     "output_type": "stream",
     "text": [
      "Accuracy: 0.8235294117647058\n",
      "Classification Report:\n",
      "              precision    recall  f1-score   support\n",
      "\n",
      "          OE       0.86      0.76      0.81        25\n",
      "          RE       0.79      0.88      0.84        26\n",
      "\n",
      "    accuracy                           0.82        51\n",
      "   macro avg       0.83      0.82      0.82        51\n",
      "weighted avg       0.83      0.82      0.82        51\n",
      "\n"
     ]
    },
    {
     "data": {
      "image/png": "[encoded data removed]",
      "text/plain": [
       "<Figure size 800x600 with 2 Axes>"
      ]
     },
     "metadata": {},
     "output_type": "display_data"
    }
   ],
   "source": [
    "# Funktion zum Einlesen der Spektren aus den CSV-Dateien\n",
    "def read_spectra_from_folder(folder_path, max_length=None):\n",
    "    spectra = []\n",
    "    labels = []\n",
    "    for file in os.listdir(folder_path):\n",
    "        if file.endswith(\".csv\"):\n",
    "            data = pd.read_csv(os.path.join(folder_path, file), header=None)\n",
    "            # Überprüfen, ob die Daten eindimensional sind\n",
    "            if data.shape[1] == 1:\n",
    "                spectrum = data.values.flatten()\n",
    "                # Auffüllen oder Kürzen auf maximale Länge\n",
    "                if max_length is not None:\n",
    "                    if len(spectrum) < max_length:\n",
    "                        spectrum = np.pad(spectrum, (0, max_length - len(spectrum)), mode='constant')\n",
    "                    elif len(spectrum) > max_length:\n",
    "                        spectrum = spectrum[:max_length]\n",
    "                spectra.append(spectrum)\n",
    "                # Extrahiere die Klassen (OE oder RE) aus dem Dateinamen\n",
    "                if 'OE' in file:\n",
    "                    labels.append('OE')\n",
    "                elif 'RE' in file:\n",
    "                    labels.append('RE')\n",
    "                else:\n",
    "                    labels.append('Unknown')\n",
    "            else:\n",
    "                print(f\"Die Datei {file} enthält nicht die erwarteten Daten.\")\n",
    "    return spectra, labels\n",
    "\n",
    "# Lade die Spektren aus dem Ordner und stelle sicher, dass alle Spektren die gleiche Länge haben\n",
    "max_length = 2523  # Beispiel: feste maximale Länge der Spektren\n",
    "spectra, labels = read_spectra_from_folder(\"/Users/leokavallaris/FTIR ATR/Spectra OE RE/122\", max_length=max_length)\n",
    "\n",
    "# Teile die Daten in Trainings- und Testsets auf\n",
    "if spectra and labels:\n",
    "    X_train, X_test, y_train, y_test = train_test_split(spectra, labels, test_size=0.2, random_state=42)\n",
    "    \n",
    "    # ... (your code up to the model training part)\n",
    "\n",
    "    model = LogisticRegression(max_iter=10000)  # Increase max_iter\n",
    "    model.fit(X_train, y_train)\n",
    "\n",
    "    # Mache Vorhersagen auf dem Testset\n",
    "    predictions = model.predict(X_test)\n",
    "\n",
    "    # Auswertung der Modellleistung\n",
    "    accuracy = accuracy_score(y_test, predictions)\n",
    "    print(\"Accuracy:\", accuracy)\n",
    "    print(\"Classification Report:\")\n",
    "    print(classification_report(y_test, predictions))\n",
    "    \n",
    "    # Konfusionsmatrix\n",
    "    conf_matrix = confusion_matrix(y_test, predictions)\n",
    "    plt.figure(figsize=(8, 6))\n",
    "    sns.heatmap(conf_matrix, annot=True, fmt='d', cmap='Blues', xticklabels=['OE', 'RE'], yticklabels=['OE', 'RE'])\n",
    "    plt.xlabel('Predicted Labels')\n",
    "    plt.ylabel('True Labels')\n",
    "    plt.title('Confusion Matrix')\n",
    "    plt.show()\n"
   ]
  },
  {
   "cell_type": "code",
   "execution_count": 8,
   "id": "12f43a65",
   "metadata": {
    "scrolled": true
   },
   "outputs": [
    {
     "ename": "TypeError",
     "evalue": "'list' object is not callable",
     "output_type": "error",
     "traceback": [
      "\u001b[0;31m---------------------------------------------------------------------------\u001b[0m",
      "\u001b[0;31mTypeError\u001b[0m                                 Traceback (most recent call last)",
      "Cell \u001b[0;32mIn[8], line 4\u001b[0m\n\u001b[1;32m      1\u001b[0m \u001b[38;5;66;03m# Umwandeln des LogisticRegression-Modells in eine Vorhersagefunktion\u001b[39;00m\n\u001b[1;32m      2\u001b[0m f \u001b[38;5;241m=\u001b[39m \u001b[38;5;28;01mlambda\u001b[39;00m x: model\u001b[38;5;241m.\u001b[39mpredict_proba(x)[:, \u001b[38;5;241m1\u001b[39m]\n\u001b[0;32m----> 4\u001b[0m shap_values \u001b[38;5;241m=\u001b[39m explainer(X_test, max_evals\u001b[38;5;241m=\u001b[39m\u001b[38;5;124m\"\u001b[39m\u001b[38;5;124mauto\u001b[39m\u001b[38;5;124m\"\u001b[39m)\n\u001b[1;32m      7\u001b[0m \u001b[38;5;66;03m# Plotten der SHAP-Werte\u001b[39;00m\n\u001b[1;32m      8\u001b[0m shap\u001b[38;5;241m.\u001b[39msummary_plot(shap_values, X_test, plot_type\u001b[38;5;241m=\u001b[39m\u001b[38;5;124m\"\u001b[39m\u001b[38;5;124mbar\u001b[39m\u001b[38;5;124m\"\u001b[39m)\n",
      "File \u001b[0;32m~/anaconda3/lib/python3.11/site-packages/shap/explainers/_permutation.py:77\u001b[0m, in \u001b[0;36mPermutationExplainer.__call__\u001b[0;34m(self, max_evals, main_effects, error_bounds, batch_size, outputs, silent, *args)\u001b[0m\n\u001b[1;32m     74\u001b[0m \u001b[38;5;28;01mdef\u001b[39;00m \u001b[38;5;21m__call__\u001b[39m(\u001b[38;5;28mself\u001b[39m, \u001b[38;5;241m*\u001b[39margs, max_evals\u001b[38;5;241m=\u001b[39m\u001b[38;5;241m500\u001b[39m, main_effects\u001b[38;5;241m=\u001b[39m\u001b[38;5;28;01mFalse\u001b[39;00m, error_bounds\u001b[38;5;241m=\u001b[39m\u001b[38;5;28;01mFalse\u001b[39;00m, batch_size\u001b[38;5;241m=\u001b[39m\u001b[38;5;124m\"\u001b[39m\u001b[38;5;124mauto\u001b[39m\u001b[38;5;124m\"\u001b[39m,\n\u001b[1;32m     75\u001b[0m              outputs\u001b[38;5;241m=\u001b[39m\u001b[38;5;28;01mNone\u001b[39;00m, silent\u001b[38;5;241m=\u001b[39m\u001b[38;5;28;01mFalse\u001b[39;00m):\n\u001b[1;32m     76\u001b[0m \u001b[38;5;250m    \u001b[39m\u001b[38;5;124;03m\"\"\"Explain the output of the model on the given arguments.\"\"\"\u001b[39;00m\n\u001b[0;32m---> 77\u001b[0m     \u001b[38;5;28;01mreturn\u001b[39;00m \u001b[38;5;28msuper\u001b[39m()\u001b[38;5;241m.\u001b[39m\u001b[38;5;21m__call__\u001b[39m(\n\u001b[1;32m     78\u001b[0m         \u001b[38;5;241m*\u001b[39margs, max_evals\u001b[38;5;241m=\u001b[39mmax_evals, main_effects\u001b[38;5;241m=\u001b[39mmain_effects, error_bounds\u001b[38;5;241m=\u001b[39merror_bounds, batch_size\u001b[38;5;241m=\u001b[39mbatch_size,\n\u001b[1;32m     79\u001b[0m         outputs\u001b[38;5;241m=\u001b[39moutputs, silent\u001b[38;5;241m=\u001b[39msilent\n\u001b[1;32m     80\u001b[0m     )\n",
      "File \u001b[0;32m~/anaconda3/lib/python3.11/site-packages/shap/explainers/_explainer.py:266\u001b[0m, in \u001b[0;36mExplainer.__call__\u001b[0;34m(self, max_evals, main_effects, error_bounds, batch_size, outputs, silent, *args, **kwargs)\u001b[0m\n\u001b[1;32m    264\u001b[0m     feature_names \u001b[38;5;241m=\u001b[39m [[] \u001b[38;5;28;01mfor\u001b[39;00m _ \u001b[38;5;129;01min\u001b[39;00m \u001b[38;5;28mrange\u001b[39m(\u001b[38;5;28mlen\u001b[39m(args))]\n\u001b[1;32m    265\u001b[0m \u001b[38;5;28;01mfor\u001b[39;00m row_args \u001b[38;5;129;01min\u001b[39;00m show_progress(\u001b[38;5;28mzip\u001b[39m(\u001b[38;5;241m*\u001b[39margs), num_rows, \u001b[38;5;28mself\u001b[39m\u001b[38;5;241m.\u001b[39m\u001b[38;5;18m__class__\u001b[39m\u001b[38;5;241m.\u001b[39m\u001b[38;5;18m__name__\u001b[39m\u001b[38;5;241m+\u001b[39m\u001b[38;5;124m\"\u001b[39m\u001b[38;5;124m explainer\u001b[39m\u001b[38;5;124m\"\u001b[39m, silent):\n\u001b[0;32m--> 266\u001b[0m     row_result \u001b[38;5;241m=\u001b[39m \u001b[38;5;28mself\u001b[39m\u001b[38;5;241m.\u001b[39mexplain_row(\n\u001b[1;32m    267\u001b[0m         \u001b[38;5;241m*\u001b[39mrow_args, max_evals\u001b[38;5;241m=\u001b[39mmax_evals, main_effects\u001b[38;5;241m=\u001b[39mmain_effects, error_bounds\u001b[38;5;241m=\u001b[39merror_bounds,\n\u001b[1;32m    268\u001b[0m         batch_size\u001b[38;5;241m=\u001b[39mbatch_size, outputs\u001b[38;5;241m=\u001b[39moutputs, silent\u001b[38;5;241m=\u001b[39msilent, \u001b[38;5;241m*\u001b[39m\u001b[38;5;241m*\u001b[39mkwargs\n\u001b[1;32m    269\u001b[0m     )\n\u001b[1;32m    270\u001b[0m     values\u001b[38;5;241m.\u001b[39mappend(row_result\u001b[38;5;241m.\u001b[39mget(\u001b[38;5;124m\"\u001b[39m\u001b[38;5;124mvalues\u001b[39m\u001b[38;5;124m\"\u001b[39m, \u001b[38;5;28;01mNone\u001b[39;00m))\n\u001b[1;32m    271\u001b[0m     output_indices\u001b[38;5;241m.\u001b[39mappend(row_result\u001b[38;5;241m.\u001b[39mget(\u001b[38;5;124m\"\u001b[39m\u001b[38;5;124moutput_indices\u001b[39m\u001b[38;5;124m\"\u001b[39m, \u001b[38;5;28;01mNone\u001b[39;00m))\n",
      "File \u001b[0;32m~/anaconda3/lib/python3.11/site-packages/shap/explainers/_permutation.py:133\u001b[0m, in \u001b[0;36mPermutationExplainer.explain_row\u001b[0;34m(self, max_evals, main_effects, error_bounds, batch_size, outputs, silent, *row_args)\u001b[0m\n\u001b[1;32m    130\u001b[0m     i \u001b[38;5;241m+\u001b[39m\u001b[38;5;241m=\u001b[39m \u001b[38;5;241m1\u001b[39m\n\u001b[1;32m    132\u001b[0m \u001b[38;5;66;03m# evaluate the masked model\u001b[39;00m\n\u001b[0;32m--> 133\u001b[0m outputs \u001b[38;5;241m=\u001b[39m fm(masks, zero_index\u001b[38;5;241m=\u001b[39m\u001b[38;5;241m0\u001b[39m, batch_size\u001b[38;5;241m=\u001b[39mbatch_size)\n\u001b[1;32m    135\u001b[0m \u001b[38;5;28;01mif\u001b[39;00m row_values \u001b[38;5;129;01mis\u001b[39;00m \u001b[38;5;28;01mNone\u001b[39;00m:\n\u001b[1;32m    136\u001b[0m     row_values \u001b[38;5;241m=\u001b[39m np\u001b[38;5;241m.\u001b[39mzeros((\u001b[38;5;28mlen\u001b[39m(fm),) \u001b[38;5;241m+\u001b[39m outputs\u001b[38;5;241m.\u001b[39mshape[\u001b[38;5;241m1\u001b[39m:])\n",
      "File \u001b[0;32m~/anaconda3/lib/python3.11/site-packages/shap/utils/_masked_model.py:67\u001b[0m, in \u001b[0;36mMaskedModel.__call__\u001b[0;34m(self, masks, zero_index, batch_size)\u001b[0m\n\u001b[1;32m     65\u001b[0m         full_masks \u001b[38;5;241m=\u001b[39m np\u001b[38;5;241m.\u001b[39mzeros((\u001b[38;5;28mint\u001b[39m(np\u001b[38;5;241m.\u001b[39msum(masks \u001b[38;5;241m>\u001b[39m\u001b[38;5;241m=\u001b[39m \u001b[38;5;241m0\u001b[39m)), \u001b[38;5;28mself\u001b[39m\u001b[38;5;241m.\u001b[39m_masker_cols), dtype\u001b[38;5;241m=\u001b[39m\u001b[38;5;28mbool\u001b[39m)\n\u001b[1;32m     66\u001b[0m         _convert_delta_mask_to_full(masks, full_masks)\n\u001b[0;32m---> 67\u001b[0m         \u001b[38;5;28;01mreturn\u001b[39;00m \u001b[38;5;28mself\u001b[39m\u001b[38;5;241m.\u001b[39m_full_masking_call(full_masks, zero_index\u001b[38;5;241m=\u001b[39mzero_index, batch_size\u001b[38;5;241m=\u001b[39mbatch_size)\n\u001b[1;32m     69\u001b[0m \u001b[38;5;28;01melse\u001b[39;00m:\n\u001b[1;32m     70\u001b[0m     \u001b[38;5;28;01mreturn\u001b[39;00m \u001b[38;5;28mself\u001b[39m\u001b[38;5;241m.\u001b[39m_full_masking_call(masks, batch_size\u001b[38;5;241m=\u001b[39mbatch_size)\n",
      "File \u001b[0;32m~/anaconda3/lib/python3.11/site-packages/shap/utils/_masked_model.py:96\u001b[0m, in \u001b[0;36mMaskedModel._full_masking_call\u001b[0;34m(self, masks, zero_index, batch_size)\u001b[0m\n\u001b[1;32m     94\u001b[0m     masked_inputs \u001b[38;5;241m=\u001b[39m \u001b[38;5;28mself\u001b[39m\u001b[38;5;241m.\u001b[39mmasker(delta_ind, \u001b[38;5;241m*\u001b[39m\u001b[38;5;28mself\u001b[39m\u001b[38;5;241m.\u001b[39margs)\u001b[38;5;241m.\u001b[39mcopy()\n\u001b[1;32m     95\u001b[0m \u001b[38;5;28;01melse\u001b[39;00m:\n\u001b[0;32m---> 96\u001b[0m     masked_inputs \u001b[38;5;241m=\u001b[39m \u001b[38;5;28mself\u001b[39m\u001b[38;5;241m.\u001b[39mmasker(mask, \u001b[38;5;241m*\u001b[39m\u001b[38;5;28mself\u001b[39m\u001b[38;5;241m.\u001b[39margs)\n\u001b[1;32m     98\u001b[0m \u001b[38;5;66;03m# get a copy that won't get overwritten by the next iteration\u001b[39;00m\n\u001b[1;32m     99\u001b[0m \u001b[38;5;28;01mif\u001b[39;00m \u001b[38;5;129;01mnot\u001b[39;00m \u001b[38;5;28mgetattr\u001b[39m(\u001b[38;5;28mself\u001b[39m\u001b[38;5;241m.\u001b[39mmasker, \u001b[38;5;124m\"\u001b[39m\u001b[38;5;124mimmutable_outputs\u001b[39m\u001b[38;5;124m\"\u001b[39m, \u001b[38;5;28;01mFalse\u001b[39;00m):\n",
      "\u001b[0;31mTypeError\u001b[0m: 'list' object is not callable"
     ]
    }
   ],
   "source": [
    "# Umwandeln des LogisticRegression-Modells in eine Vorhersagefunktion\n",
    "f = lambda x: model.predict_proba(x)[:, 1]\n",
    "\n",
    "shap_values = explainer(X_test, max_evals=\"auto\")\n",
    "\n",
    "\n",
    "# Plotten der SHAP-Werte\n",
    "shap.summary_plot(shap_values, X_test, plot_type=\"bar\")\n"
   ]
  },
  {
   "cell_type": "code",
   "execution_count": null,
   "id": "134d75ae",
   "metadata": {},
   "outputs": [],
   "source": []
  }
 ],
 "metadata": {
  "kernelspec": {
   "display_name": "Python 3 (ipykernel)",
   "language": "python",
   "name": "python3"
  },
  "language_info": {
   "codemirror_mode": {
    "name": "ipython",
    "version": 3
   },
   "file_extension": ".py",
   "mimetype": "text/x-python",
   "name": "python",
   "nbconvert_exporter": "python",
   "pygments_lexer": "ipython3",
   "version": "3.11.5"
  }
 },
 "nbformat": 4,
 "nbformat_minor": 5
}
