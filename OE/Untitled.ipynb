{
 "cells": [
  {
   "cell_type": "code",
   "execution_count": 1,
   "id": "c251475c",
   "metadata": {},
   "outputs": [],
   "source": [
    "import numpy as np\n",
    "import matplotlib.pyplot as plt\n",
    "import os\n",
    "from brukeropusreader import read_file"
   ]
  },
  {
   "cell_type": "code",
   "execution_count": 2,
   "id": "ae0c87c6",
   "metadata": {},
   "outputs": [],
   "source": [
    "# Funktion zur Normalisierung eines Spektrums\n",
    "def normalize_spectrum(absorbance):\n",
    "    mean = np.mean(absorbance)\n",
    "    std = np.std(absorbance)\n",
    "    normalized_absorbance = (absorbance - mean) / std\n",
    "    return normalized_absorbance\n"
   ]
  },
  {
   "cell_type": "code",
   "execution_count": 3,
   "id": "f21e02bf",
   "metadata": {},
   "outputs": [],
   "source": [
    "if not os.path.exists('OE'):\n",
    "    os.makedirs('OE')"
   ]
  },
  {
   "cell_type": "code",
   "execution_count": 4,
   "id": "eac3be1f",
   "metadata": {},
   "outputs": [],
   "source": [
    "file_list = os.listdir()"
   ]
  },
  {
   "cell_type": "code",
   "execution_count": 5,
   "id": "c2a84afc",
   "metadata": {},
   "outputs": [],
   "source": [
    "for file_name in file_list:\n",
    "    if file_name.endswith('.0'):\n",
    "        opus_data = read_file(file_name)\n",
    "        absorbance = opus_data['AB']\n",
    "        start_wn = opus_data['AB Data Parameter']['FXV']\n",
    "        end_wn = opus_data['AB Data Parameter']['LXV']\n",
    "        num_points = opus_data['AB Data Parameter']['NPT']\n",
    "        wavenumbers = np.linspace(start_wn, end_wn, num_points)\n",
    "\n",
    "        normalized_absorbance = normalize_spectrum(absorbance)\n"
   ]
  },
  {
   "cell_type": "code",
   "execution_count": 6,
   "id": "f29040a3",
   "metadata": {},
   "outputs": [],
   "source": [
    "output_file_path = os.path.join('OE', file_name)"
   ]
  },
  {
   "cell_type": "code",
   "execution_count": 7,
   "id": "f000925a",
   "metadata": {},
   "outputs": [
    {
     "ename": "NameError",
     "evalue": "name 'wavenumbers' is not defined",
     "output_type": "error",
     "traceback": [
      "\u001b[0;31m---------------------------------------------------------------------------\u001b[0m",
      "\u001b[0;31mNameError\u001b[0m                                 Traceback (most recent call last)",
      "Cell \u001b[0;32mIn[7], line 3\u001b[0m\n\u001b[1;32m      1\u001b[0m \u001b[38;5;28;01mwith\u001b[39;00m \u001b[38;5;28mopen\u001b[39m(output_file_path, \u001b[38;5;124m'\u001b[39m\u001b[38;5;124mw\u001b[39m\u001b[38;5;124m'\u001b[39m) \u001b[38;5;28;01mas\u001b[39;00m f:\n\u001b[1;32m      2\u001b[0m            f\u001b[38;5;241m.\u001b[39mwrite(\u001b[38;5;124m'\u001b[39m\u001b[38;5;124m# Wavenumber (cm⁻¹) Absorbance\u001b[39m\u001b[38;5;130;01m\\n\u001b[39;00m\u001b[38;5;124m'\u001b[39m)\n\u001b[0;32m----> 3\u001b[0m            \u001b[38;5;28;01mfor\u001b[39;00m wn, absorb \u001b[38;5;129;01min\u001b[39;00m \u001b[38;5;28mzip\u001b[39m(wavenumbers, normalized_absorbance):\n\u001b[1;32m      4\u001b[0m                f\u001b[38;5;241m.\u001b[39mwrite(\u001b[38;5;124mf\u001b[39m\u001b[38;5;124m'\u001b[39m\u001b[38;5;132;01m{\u001b[39;00mwn\u001b[38;5;132;01m}\u001b[39;00m\u001b[38;5;124m \u001b[39m\u001b[38;5;132;01m{\u001b[39;00mabsorb\u001b[38;5;132;01m}\u001b[39;00m\u001b[38;5;130;01m\\n\u001b[39;00m\u001b[38;5;124m'\u001b[39m)\n",
      "\u001b[0;31mNameError\u001b[0m: name 'wavenumbers' is not defined"
     ]
    }
   ],
   "source": [
    " with open(output_file_path, 'w') as f:\n",
    "            f.write('# Wavenumber (cm⁻¹) Absorbance\\n')\n",
    "            for wn, absorb in zip(wavenumbers, normalized_absorbance):\n",
    "                f.write(f'{wn} {absorb}\\n')"
   ]
  },
  {
   "cell_type": "code",
   "execution_count": null,
   "id": "6e17272d",
   "metadata": {},
   "outputs": [],
   "source": []
  }
 ],
 "metadata": {
  "kernelspec": {
   "display_name": "Python 3 (ipykernel)",
   "language": "python",
   "name": "python3"
  },
  "language_info": {
   "codemirror_mode": {
    "name": "ipython",
    "version": 3
   },
   "file_extension": ".py",
   "mimetype": "text/x-python",
   "name": "python",
   "nbconvert_exporter": "python",
   "pygments_lexer": "ipython3",
   "version": "3.11.5"
  }
 },
 "nbformat": 4,
 "nbformat_minor": 5
}
