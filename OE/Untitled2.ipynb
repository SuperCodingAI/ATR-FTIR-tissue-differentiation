{
 "cells": [
  {
   "cell_type": "code",
   "execution_count": 1,
   "id": "0003cf0b",
   "metadata": {},
   "outputs": [],
   "source": [
    "\n",
    "import tkinter as tk\n",
    "from tkinter import filedialog\n",
    "import numpy as np\n",
    "import os\n",
    "from brukeropusreader import read_file"
   ]
  },
  {
   "cell_type": "code",
   "execution_count": 2,
   "id": "38a2596f",
   "metadata": {},
   "outputs": [],
   "source": [
    "def z_score_normalization(data):\n",
    "    mean = np.mean(data)\n",
    "    std = np.std(data)\n",
    "    normalized_data = (data - mean) / std\n",
    "    return normalized_data\n",
    "\n",
    "def open_files_and_save_normalized():\n",
    "    root = tk.Tk()\n",
    "    root.withdraw()  # Hide the main window\n"
   ]
  },
  {
   "cell_type": "code",
   "execution_count": 4,
   "id": "2ea8f134",
   "metadata": {},
   "outputs": [],
   "source": [
    "\n",
    " # Open file dialog and get the file paths\n",
    "file_paths = filedialog.askopenfilenames()"
   ]
  },
  {
   "cell_type": "code",
   "execution_count": 5,
   "id": "0d308897",
   "metadata": {},
   "outputs": [],
   "source": [
    " if file_paths:\n",
    "        # Create the directory in the same directory as the Jupyter Notebook\n",
    "        notebook_dir = os.path.dirname(os.path.abspath(''))\n",
    "        output_directory = os.path.join(notebook_dir, \"normalized_spectra\")\n",
    "        if not os.path.exists(output_directory):\n",
    "            os.makedirs(output_directory)\n"
   ]
  },
  {
   "cell_type": "code",
   "execution_count": 6,
   "id": "96990571",
   "metadata": {},
   "outputs": [],
   "source": [
    "for file_path in file_paths:\n",
    "            # Reading the OPUS file\n",
    "            opus_data = read_file(file_path)\n",
    "            file_name = os.path.basename(file_path)\n",
    "            absorbance = opus_data['AB']\n"
   ]
  },
  {
   "cell_type": "code",
   "execution_count": 7,
   "id": "ea6b183e",
   "metadata": {},
   "outputs": [],
   "source": [
    "  # Z-score normalization:\n",
    "normalized_absorbance = z_score_normalization(absorbance)\n"
   ]
  },
  {
   "cell_type": "code",
   "execution_count": 8,
   "id": "1c68f507",
   "metadata": {},
   "outputs": [
    {
     "name": "stdout",
     "output_type": "stream",
     "text": [
      "Normalized data saved as: /Users/leokavallaris/FTIR ATR/normalized_spectra/20240304 TE 5_normalized.0004\n"
     ]
    }
   ],
   "source": [
    "# Save the normalized spectrum\n",
    "save_path = os.path.join(output_directory, file_name.replace('.0', '_normalized.0'))\n",
    "np.savetxt(save_path, normalized_absorbance, delimiter=',', fmt='%f')\n",
    "print(f\"Normalized data saved as: {save_path}\")\n"
   ]
  },
  {
   "cell_type": "code",
   "execution_count": null,
   "id": "b39b5011",
   "metadata": {},
   "outputs": [],
   "source": []
  }
 ],
 "metadata": {
  "kernelspec": {
   "display_name": "Python 3 (ipykernel)",
   "language": "python",
   "name": "python3"
  },
  "language_info": {
   "codemirror_mode": {
    "name": "ipython",
    "version": 3
   },
   "file_extension": ".py",
   "mimetype": "text/x-python",
   "name": "python",
   "nbconvert_exporter": "python",
   "pygments_lexer": "ipython3",
   "version": "3.11.5"
  }
 },
 "nbformat": 4,
 "nbformat_minor": 5
}
