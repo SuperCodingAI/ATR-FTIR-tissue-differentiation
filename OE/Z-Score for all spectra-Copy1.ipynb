{
 "cells": [
  {
   "cell_type": "code",
   "execution_count": 1,
   "id": "8a74978a",
   "metadata": {},
   "outputs": [],
   "source": [
    "import tkinter as tk\n",
    "from tkinter import filedialog\n",
    "import numpy as np\n",
    "import os\n",
    "import multiprocessing\n",
    "from brukeropusreader import read_file"
   ]
  },
  {
   "cell_type": "code",
   "execution_count": 2,
   "id": "5f5d738c",
   "metadata": {},
   "outputs": [],
   "source": [
    "def z_score_normalization(data):\n",
    "    mean = np.mean(data)\n",
    "    std = np.std(data)\n",
    "    normalized_data = (data - mean) / std\n",
    "    return normalized_data\n"
   ]
  },
  {
   "cell_type": "code",
   "execution_count": 3,
   "id": "9290cd31",
   "metadata": {},
   "outputs": [],
   "source": [
    "def normalize_file(file_path):\n",
    "    # Reading the OPUS file\n",
    "    opus_data = read_file(file_path)\n",
    "    file_name = os.path.basename(file_path)\n",
    "    absorbance = opus_data['AB']\n"
   ]
  },
  {
   "cell_type": "code",
   "execution_count": 8,
   "id": "cec518c6",
   "metadata": {},
   "outputs": [
    {
     "ename": "NameError",
     "evalue": "name 'absorbance' is not defined",
     "output_type": "error",
     "traceback": [
      "\u001b[0;31m---------------------------------------------------------------------------\u001b[0m",
      "\u001b[0;31mNameError\u001b[0m                                 Traceback (most recent call last)",
      "Cell \u001b[0;32mIn[8], line 2\u001b[0m\n\u001b[1;32m      1\u001b[0m \u001b[38;5;66;03m# Z-score normalization:\u001b[39;00m\n\u001b[0;32m----> 2\u001b[0m normalized_absorbance \u001b[38;5;241m=\u001b[39m z_score_normalization(absorbance)\n",
      "\u001b[0;31mNameError\u001b[0m: name 'absorbance' is not defined"
     ]
    }
   ],
   "source": [
    "   # Z-score normalization:\n",
    "normalized_absorbance = z_score_normalization(absorbance)"
   ]
  },
  {
   "cell_type": "code",
   "execution_count": 5,
   "id": "10e6f24e",
   "metadata": {},
   "outputs": [],
   "source": [
    "  # Open file dialog and get the file paths\n",
    "file_paths = filedialog.askopenfilenames()\n",
    "\n"
   ]
  },
  {
   "cell_type": "code",
   "execution_count": 7,
   "id": "637aad3a",
   "metadata": {},
   "outputs": [
    {
     "ename": "NameError",
     "evalue": "name 'absorbance' is not defined",
     "output_type": "error",
     "traceback": [
      "\u001b[0;31m---------------------------------------------------------------------------\u001b[0m",
      "\u001b[0;31mNameError\u001b[0m                                 Traceback (most recent call last)",
      "Cell \u001b[0;32mIn[7], line 2\u001b[0m\n\u001b[1;32m      1\u001b[0m \u001b[38;5;66;03m# Z-score normalization:\u001b[39;00m\n\u001b[0;32m----> 2\u001b[0m normalized_absorbance \u001b[38;5;241m=\u001b[39m z_score_normalization(absorbance)\n",
      "\u001b[0;31mNameError\u001b[0m: name 'absorbance' is not defined"
     ]
    }
   ],
   "source": [
    "  # Z-score normalization:\n",
    "normalized_absorbance = z_score_normalization(absorbance)\n"
   ]
  },
  {
   "cell_type": "code",
   "execution_count": 59,
   "id": "0d5164a0",
   "metadata": {},
   "outputs": [],
   "source": [
    " # Z-score normalization:\n",
    "normalized_absorbance = z_score_normalization(absorbance)\n"
   ]
  },
  {
   "cell_type": "code",
   "execution_count": 61,
   "id": "af68184a",
   "metadata": {
    "scrolled": false
   },
   "outputs": [
    {
     "ename": "NameError",
     "evalue": "name 'file_names' is not defined",
     "output_type": "error",
     "traceback": [
      "\u001b[0;31m---------------------------------------------------------------------------\u001b[0m",
      "\u001b[0;31mNameError\u001b[0m                                 Traceback (most recent call last)",
      "Cell \u001b[0;32mIn[61], line 2\u001b[0m\n\u001b[1;32m      1\u001b[0m \u001b[38;5;66;03m# Save the normalized spectrum\u001b[39;00m\n\u001b[0;32m----> 2\u001b[0m save_path \u001b[38;5;241m=\u001b[39m os\u001b[38;5;241m.\u001b[39mpath\u001b[38;5;241m.\u001b[39mjoin(output_directory, file_names\u001b[38;5;241m.\u001b[39mreplace(\u001b[38;5;124m'\u001b[39m\u001b[38;5;124m.0\u001b[39m\u001b[38;5;124m'\u001b[39m, \u001b[38;5;124m'\u001b[39m\u001b[38;5;124m_normalized.0\u001b[39m\u001b[38;5;124m'\u001b[39m))\n\u001b[1;32m      3\u001b[0m np\u001b[38;5;241m.\u001b[39msavetxt(save_path, normalized_absorbance, delimiter\u001b[38;5;241m=\u001b[39m\u001b[38;5;124m'\u001b[39m\u001b[38;5;124m,\u001b[39m\u001b[38;5;124m'\u001b[39m, fmt\u001b[38;5;241m=\u001b[39m\u001b[38;5;124m'\u001b[39m\u001b[38;5;132;01m%f\u001b[39;00m\u001b[38;5;124m'\u001b[39m)\n\u001b[1;32m      4\u001b[0m \u001b[38;5;28mprint\u001b[39m(\u001b[38;5;124mf\u001b[39m\u001b[38;5;124m\"\u001b[39m\u001b[38;5;124mNormalized data saved as: \u001b[39m\u001b[38;5;132;01m{\u001b[39;00msave_path\u001b[38;5;132;01m}\u001b[39;00m\u001b[38;5;124m\"\u001b[39m)\n",
      "\u001b[0;31mNameError\u001b[0m: name 'file_names' is not defined"
     ]
    }
   ],
   "source": [
    "\n",
    "# Save the normalized spectrum\n",
    "save_path = os.path.join(output_directory, file_name.replace('.0', '_normalized.0'))\n",
    "np.savetxt(save_path, normalized_absorbance, delimiter=',', fmt='%f')\n",
    "print(f\"Normalized data saved as: {save_path}\")\n",
    "\n"
   ]
  },
  {
   "cell_type": "code",
   "execution_count": null,
   "id": "a0386cf8",
   "metadata": {},
   "outputs": [],
   "source": []
  },
  {
   "cell_type": "code",
   "execution_count": null,
   "id": "8a4efa7f",
   "metadata": {},
   "outputs": [],
   "source": []
  },
  {
   "cell_type": "code",
   "execution_count": null,
   "id": "988e2b29",
   "metadata": {},
   "outputs": [],
   "source": []
  }
 ],
 "metadata": {
  "kernelspec": {
   "display_name": "Python 3 (ipykernel)",
   "language": "python",
   "name": "python3"
  },
  "language_info": {
   "codemirror_mode": {
    "name": "ipython",
    "version": 3
   },
   "file_extension": ".py",
   "mimetype": "text/x-python",
   "name": "python",
   "nbconvert_exporter": "python",
   "pygments_lexer": "ipython3",
   "version": "3.11.5"
  }
 },
 "nbformat": 4,
 "nbformat_minor": 5
}
