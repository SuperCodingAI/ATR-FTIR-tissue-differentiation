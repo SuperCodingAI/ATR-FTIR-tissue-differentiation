{
 "cells": [
  {
   "cell_type": "code",
   "execution_count": 18,
   "id": "8a74978a",
   "metadata": {},
   "outputs": [],
   "source": [
    "import tkinter as tk\n",
    "from tkinter import filedialog\n",
    "import numpy as np\n",
    "import os\n",
    "from brukeropusreader import read_file"
   ]
  },
  {
   "cell_type": "code",
   "execution_count": 19,
   "id": "5f5d738c",
   "metadata": {},
   "outputs": [],
   "source": [
    "def z_score_normalization(data):\n",
    "    mean = np.mean(data)\n",
    "    std = np.std(data)\n",
    "    normalized_data = (data - mean) / std\n",
    "    return normalized_data\n"
   ]
  },
  {
   "cell_type": "code",
   "execution_count": 20,
   "id": "9290cd31",
   "metadata": {},
   "outputs": [],
   "source": [
    "def open_files_and_save_normalized():\n",
    "    root = tk.Tk()\n",
    "    root.withdraw()  # Hide the main window\n"
   ]
  },
  {
   "cell_type": "code",
   "execution_count": null,
   "id": "cec518c6",
   "metadata": {},
   "outputs": [],
   "source": []
  },
  {
   "cell_type": "code",
   "execution_count": 21,
   "id": "10e6f24e",
   "metadata": {},
   "outputs": [],
   "source": [
    "if file_paths:\n",
    "        # Create the directory if it doesn't exist\n",
    "        output_directory = \"normalized_spectra\"\n",
    "        if not os.path.exists(output_directory):\n",
    "            os.makedirs(output_directory)\n"
   ]
  },
  {
   "cell_type": "code",
   "execution_count": 22,
   "id": "637aad3a",
   "metadata": {},
   "outputs": [],
   "source": [
    "for file_path in file_paths:\n",
    "            # Reading the OPUS file\n",
    "            opus_data = read_file(file_path)\n",
    "            file_name = os.path.basename(file_path)\n",
    "            absorbance = opus_data['AB']\n"
   ]
  },
  {
   "cell_type": "code",
   "execution_count": 23,
   "id": "0d5164a0",
   "metadata": {},
   "outputs": [],
   "source": [
    " # Z-score normalization:\n",
    "normalized_absorbance = z_score_normalization(absorbance)\n"
   ]
  },
  {
   "cell_type": "code",
   "execution_count": 24,
   "id": "af68184a",
   "metadata": {
    "scrolled": false
   },
   "outputs": [
    {
     "name": "stdout",
     "output_type": "stream",
     "text": [
      "Normalized data saved as: normalized_spectra/20240304 OE 1_normalized.0001\n"
     ]
    },
    {
     "ename": "TypeError",
     "evalue": "open_files_and_save_normalized() takes 0 positional arguments but 1 was given",
     "output_type": "error",
     "traceback": [
      "\u001b[0;31m---------------------------------------------------------------------------\u001b[0m",
      "\u001b[0;31mTypeError\u001b[0m                                 Traceback (most recent call last)",
      "Cell \u001b[0;32mIn[24], line 11\u001b[0m\n\u001b[1;32m      8\u001b[0m file_paths \u001b[38;5;241m=\u001b[39m filedialog\u001b[38;5;241m.\u001b[39maskopenfilenames()\n\u001b[1;32m     10\u001b[0m \u001b[38;5;28;01mif\u001b[39;00m file_paths:\n\u001b[0;32m---> 11\u001b[0m     open_files_and_save_normalized(file_paths)\n",
      "\u001b[0;31mTypeError\u001b[0m: open_files_and_save_normalized() takes 0 positional arguments but 1 was given"
     ]
    }
   ],
   "source": [
    "\n",
    "# Save the normalized spectrum\n",
    "save_path = os.path.join(output_directory, file_name.replace('.0', '_normalized.0'))\n",
    "np.savetxt(save_path, normalized_absorbance, delimiter=',', fmt='%f')\n",
    "print(f\"Normalized data saved as: {save_path}\")\n",
    "\n",
    "root = tk.Tk()\n",
    "root.withdraw()  # Hide the main window\n",
    "file_paths = filedialog.askopenfilenames()\n",
    "\n",
    "if file_paths:\n",
    "    open_files_and_save_normalized(file_paths)"
   ]
  },
  {
   "cell_type": "code",
   "execution_count": null,
   "id": "a0386cf8",
   "metadata": {},
   "outputs": [],
   "source": []
  },
  {
   "cell_type": "code",
   "execution_count": null,
   "id": "8a4efa7f",
   "metadata": {},
   "outputs": [],
   "source": []
  },
  {
   "cell_type": "code",
   "execution_count": null,
   "id": "988e2b29",
   "metadata": {},
   "outputs": [],
   "source": []
  }
 ],
 "metadata": {
  "kernelspec": {
   "display_name": "Python 3 (ipykernel)",
   "language": "python",
   "name": "python3"
  },
  "language_info": {
   "codemirror_mode": {
    "name": "ipython",
    "version": 3
   },
   "file_extension": ".py",
   "mimetype": "text/x-python",
   "name": "python",
   "nbconvert_exporter": "python",
   "pygments_lexer": "ipython3",
   "version": "3.11.5"
  }
 },
 "nbformat": 4,
 "nbformat_minor": 5
}
