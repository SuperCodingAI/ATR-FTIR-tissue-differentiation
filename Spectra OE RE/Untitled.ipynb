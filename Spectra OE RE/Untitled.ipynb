{
 "cells": [
  {
   "cell_type": "code",
   "execution_count": 4,
   "id": "4fc7727f",
   "metadata": {},
   "outputs": [
    {
     "name": "stdout",
     "output_type": "stream",
     "text": [
      "Spektren erfolgreich abgeschnitten und im Zielordner gespeichert.\n"
     ]
    }
   ],
   "source": [
    "import os\n",
    "import numpy as np\n",
    "import shutil\n",
    "\n",
    "# Beispiel: Pfad zum Ordner mit den normalisierten Spektren\n",
    "source_folder = \"/Users/leokavallaris/FTIR ATR/Spectra OE RE/normalized_OE_RE\"\n",
    "\n",
    "# Zielordner für die abgeschnittenen Spektren\n",
    "target_folder = \"/Users/leokavallaris/FTIR ATR/Spectra OE RE/normalized_OE_RE_1800_to_900\"\n",
    "\n",
    "# Bereich der Wellenlängen (in cm⁻¹), die beibehalten werden sollen\n",
    "wavelength_start = 1800\n",
    "wavelength_end = 900\n",
    "\n",
    "# Erstelle den Zielordner, falls er noch nicht existiert\n",
    "if not os.path.exists(target_folder):\n",
    "    os.makedirs(target_folder)\n",
    "\n",
    "# Schleife durch die Dateien im Quellordner\n",
    "for file_name in os.listdir(source_folder):\n",
    "    if file_name.endswith(\"_normalized.csv\"):\n",
    "        # Lese die normalisierten Spektraldaten ein\n",
    "        file_path = os.path.join(source_folder, file_name)\n",
    "        normalized_spectrum = np.loadtxt(file_path, delimiter=',')\n",
    "\n",
    "        # Finde den Index des Wellenlängenpunkts, der dem Start des Bereichs am nächsten liegt\n",
    "        start_index = np.argmax(normalized_spectrum <= wavelength_start)\n",
    "        # Finde den Index des Wellenlängenpunkts, der dem Ende des Bereichs am nächsten liegt\n",
    "        end_index = np.argmax(normalized_spectrum <= wavelength_end)\n",
    "\n",
    "        # Schneide den Bereich der Spektren ab\n",
    "        cropped_spectrum = normalized_spectrum[start_index:end_index+1]\n",
    "\n",
    "        # Speichere die abgeschnittenen Spektren im Zielordner\n",
    "        target_file_path = os.path.join(target_folder, file_name.replace(\"_normalized.csv\", \"_1800_to_900.csv\"))\n",
    "        np.savetxt(target_file_path, cropped_spectrum, delimiter=',')\n",
    "\n",
    "print(\"Spektren erfolgreich abgeschnitten und im Zielordner gespeichert.\")\n"
   ]
  },
  {
   "cell_type": "code",
   "execution_count": 12,
   "id": "ae16155f",
   "metadata": {},
   "outputs": [],
   "source": [
    "import numpy as np\n",
    "import matplotlib.pyplot as plt\n",
    "import os\n",
    "\n",
    "# Beispiel: Pfad zum Ordner mit den normalisierten Spektren\n",
    "folder_path = \"/Users/leokavallaris/FTIR ATR/Spectra OE RE/normalized_OE_RE_1800_to_900\"\n",
    "\n",
    "# Durch die CSV-Dateien im Ordner iterieren\n",
    "for file_name in os.listdir(folder_path):\n",
    "    if file_name.endswith(\"_normalized.csv\"):\n",
    "        # Lese die normalisierten Spektraldaten ein\n",
    "        file_path = os.path.join(folder_path, file_name)\n",
    "        normalized_absorbance = np.loadtxt(file_path, delimiter=',')\n",
    "        \n",
    "        # Erzeuge die Wellenzahlen\n",
    "        start_wn = 900  # Anpassen, falls bekannt\n",
    "        end_wn = 1800  # Anpassen, falls bekannt\n",
    "        num_points = len(normalized_absorbance)\n",
    "        wavenumbers = np.linspace(start_wn, end_wn, num_points)\n",
    "        \n",
    "        # Plot des normalisierten Spektrums\n",
    "        plt.figure(figsize=(10, 6))\n",
    "        plt.plot(wavenumbers, normalized_absorbance)\n",
    "        plt.xlabel('Wavenumber (cm⁻¹)')\n",
    "        plt.ylabel('Normalized Absorbance')\n",
    "        plt.title(f'Normalized Spectrum: {file_name[:-16]}')  # Ausschneiden von \"_normalized.csv\"\n",
    "        plt.grid(True)\n",
    "        plt.gca().invert_xaxis()  # Invertieren der x-Achse, falls erforderlich\n",
    "        plt.show()\n"
   ]
  },
  {
   "cell_type": "code",
   "execution_count": null,
   "id": "9838e23a",
   "metadata": {},
   "outputs": [],
   "source": []
  },
  {
   "cell_type": "code",
   "execution_count": null,
   "id": "d03716c0",
   "metadata": {},
   "outputs": [],
   "source": []
  }
 ],
 "metadata": {
  "kernelspec": {
   "display_name": "Python 3 (ipykernel)",
   "language": "python",
   "name": "python3"
  },
  "language_info": {
   "codemirror_mode": {
    "name": "ipython",
    "version": 3
   },
   "file_extension": ".py",
   "mimetype": "text/x-python",
   "name": "python",
   "nbconvert_exporter": "python",
   "pygments_lexer": "ipython3",
   "version": "3.11.5"
  }
 },
 "nbformat": 4,
 "nbformat_minor": 5
}
