{
 "cells": [
  {
   "cell_type": "code",
   "execution_count": 16,
   "id": "ab8ada15",
   "metadata": {
    "scrolled": true
   },
   "outputs": [
    {
     "name": "stdout",
     "output_type": "stream",
     "text": [
      "Requirement already satisfied: umap-learn in /Users/leokavallaris/anaconda3/lib/python3.11/site-packages (0.5.5)\r\n",
      "Requirement already satisfied: numpy>=1.17 in /Users/leokavallaris/anaconda3/lib/python3.11/site-packages (from umap-learn) (1.24.3)\r\n",
      "Requirement already satisfied: scipy>=1.3.1 in /Users/leokavallaris/anaconda3/lib/python3.11/site-packages (from umap-learn) (1.11.1)\r\n",
      "Requirement already satisfied: scikit-learn>=0.22 in /Users/leokavallaris/anaconda3/lib/python3.11/site-packages (from umap-learn) (1.3.0)\r\n",
      "Requirement already satisfied: numba>=0.51.2 in /Users/leokavallaris/anaconda3/lib/python3.11/site-packages (from umap-learn) (0.57.1)\r\n",
      "Requirement already satisfied: pynndescent>=0.5 in /Users/leokavallaris/anaconda3/lib/python3.11/site-packages (from umap-learn) (0.5.11)\r\n",
      "Requirement already satisfied: tqdm in /Users/leokavallaris/anaconda3/lib/python3.11/site-packages (from umap-learn) (4.65.0)\r\n",
      "Requirement already satisfied: llvmlite<0.41,>=0.40.0dev0 in /Users/leokavallaris/anaconda3/lib/python3.11/site-packages (from numba>=0.51.2->umap-learn) (0.40.0)\r\n",
      "Requirement already satisfied: joblib>=0.11 in /Users/leokavallaris/anaconda3/lib/python3.11/site-packages (from pynndescent>=0.5->umap-learn) (1.2.0)\r\n",
      "Requirement already satisfied: threadpoolctl>=2.0.0 in /Users/leokavallaris/anaconda3/lib/python3.11/site-packages (from scikit-learn>=0.22->umap-learn) (2.2.0)\r\n"
     ]
    },
    {
     "ename": "ImportError",
     "evalue": "cannot import name 'UMAP' from 'umap' (/Users/leokavallaris/anaconda3/lib/python3.11/site-packages/umap/__init__.py)",
     "output_type": "error",
     "traceback": [
      "\u001b[0;31m---------------------------------------------------------------------------\u001b[0m",
      "\u001b[0;31mImportError\u001b[0m                               Traceback (most recent call last)",
      "Cell \u001b[0;32mIn[16], line 5\u001b[0m\n\u001b[1;32m      3\u001b[0m \u001b[38;5;28;01mfrom\u001b[39;00m \u001b[38;5;21;01msklearn\u001b[39;00m\u001b[38;5;21;01m.\u001b[39;00m\u001b[38;5;21;01mpreprocessing\u001b[39;00m \u001b[38;5;28;01mimport\u001b[39;00m StandardScaler\n\u001b[1;32m      4\u001b[0m get_ipython()\u001b[38;5;241m.\u001b[39msystem(\u001b[38;5;124m'\u001b[39m\u001b[38;5;124mpip install umap-learn\u001b[39m\u001b[38;5;124m'\u001b[39m)\n\u001b[0;32m----> 5\u001b[0m \u001b[38;5;28;01mfrom\u001b[39;00m \u001b[38;5;21;01mumap\u001b[39;00m \u001b[38;5;28;01mimport\u001b[39;00m UMAP\n\u001b[1;32m      6\u001b[0m \u001b[38;5;28;01mimport\u001b[39;00m \u001b[38;5;21;01mmatplotlib\u001b[39;00m\u001b[38;5;21;01m.\u001b[39;00m\u001b[38;5;21;01mpyplot\u001b[39;00m \u001b[38;5;28;01mas\u001b[39;00m \u001b[38;5;21;01mplt\u001b[39;00m\n\u001b[1;32m      8\u001b[0m \u001b[38;5;66;03m# Beispiel: Pfad zum Ordner mit den normalisierten Spektren\u001b[39;00m\n",
      "\u001b[0;31mImportError\u001b[0m: cannot import name 'UMAP' from 'umap' (/Users/leokavallaris/anaconda3/lib/python3.11/site-packages/umap/__init__.py)"
     ]
    }
   ],
   "source": [
    "import numpy as np\n",
    "import os\n",
    "from sklearn.preprocessing import StandardScaler\n",
    "!pip install umap-learn\n",
    "from umap import UMAP\n",
    "import matplotlib.pyplot as plt\n",
    "\n",
    "# Beispiel: Pfad zum Ordner mit den normalisierten Spektren\n",
    "folder_path = \"/Users/leokavallaris/FTIR ATR/Spectra OE RE/normalized_OE_RE\"\n",
    "\n",
    "# Bestimme die maximale Länge der Spektren\n",
    "max_length = max(len(np.loadtxt(os.path.join(folder_path, file_name), delimiter=',')) \n",
    "                 for file_name in os.listdir(folder_path) if file_name.endswith(\"_normalized.csv\"))\n",
    "\n",
    "# Sammle die normalisierten Spektren in einer Liste und passe sie auf die maximale Länge an\n",
    "spectra = []\n",
    "for file_name in os.listdir(folder_path):\n",
    "    if file_name.endswith(\"_normalized.csv\"):\n",
    "        # Lese die normalisierten Spektraldaten ein\n",
    "        file_path = os.path.join(folder_path, file_name)\n",
    "        normalized_absorbance = np.loadtxt(file_path, delimiter=',')\n",
    "        # Füge Nullen hinzu oder schneide die Spektren auf die maximale Länge zu\n",
    "        if len(normalized_absorbance) < max_length:\n",
    "            normalized_absorbance = np.pad(normalized_absorbance, (0, max_length - len(normalized_absorbance)), mode='constant')\n",
    "        elif len(normalized_absorbance) > max_length:\n",
    "            normalized_absorbance = normalized_absorbance[:max_length]\n",
    "        spectra.append(normalized_absorbance)\n",
    "\n",
    "# Konvertiere die Liste von Spektren in ein numpy-Array\n",
    "spectra = np.array(spectra)\n",
    "\n",
    "# Skalieren der Daten\n",
    "scaler = StandardScaler()\n",
    "scaled_spectra = scaler.fit_transform(spectra)\n",
    "\n",
    "# Anwenden von UMAP\n",
    "umap = UMAP(n_neighbors=10, min_dist=0.1, n_components=2)\n",
    "umap_embeddings = umap.fit_transform(scaled_spectra)\n",
    "\n",
    "# Plot der UMAP-Einbettung\n",
    "plt.figure(figsize=(10, 6))\n",
    "plt.scatter(umap_embeddings[:, 0], umap_embeddings[:, 1], s=10)\n",
    "plt.xlabel('UMAP Dimension 1')\n",
    "plt.ylabel('UMAP Dimension 2')\n",
    "plt.title('UMAP Visualization of Spectra')\n",
    "plt.grid(True)\n",
    "plt.show()\n"
   ]
  },
  {
   "cell_type": "code",
   "execution_count": null,
   "id": "e22d9369",
   "metadata": {},
   "outputs": [],
   "source": []
  }
 ],
 "metadata": {
  "kernelspec": {
   "display_name": "Python 3 (ipykernel)",
   "language": "python",
   "name": "python3"
  },
  "language_info": {
   "codemirror_mode": {
    "name": "ipython",
    "version": 3
   },
   "file_extension": ".py",
   "mimetype": "text/x-python",
   "name": "python",
   "nbconvert_exporter": "python",
   "pygments_lexer": "ipython3",
   "version": "3.11.5"
  }
 },
 "nbformat": 4,
 "nbformat_minor": 5
}
