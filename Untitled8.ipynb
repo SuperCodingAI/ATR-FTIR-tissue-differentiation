{
 "cells": [
  {
   "cell_type": "code",
   "execution_count": 2,
   "id": "47c5993d",
   "metadata": {},
   "outputs": [
    {
     "name": "stdout",
     "output_type": "stream",
     "text": [
      "Minimale Länge der Spektren: 12894\n",
      "Maximale Länge der Spektren: 12896\n",
      "Durchschnittliche Länge der Spektren: 12894.392156862745\n"
     ]
    }
   ],
   "source": [
    "import os\n",
    "import numpy as np\n",
    "\n",
    "# Beispiel: Pfad zum Ordner mit den normalisierten Spektren\n",
    "folder_path = \"/Users/leokavallaris/FTIR ATR/Spectra OE RE/normalized_OE_RE\"\n",
    "\n",
    "# Liste zur Speicherung der Längen der Spektren\n",
    "spectra_lengths = []\n",
    "\n",
    "# Durchlaufe die Dateien im Ordner und ermitteln die Länge jedes Spektrums\n",
    "for file_name in os.listdir(folder_path):\n",
    "    if file_name.endswith(\"_normalized.csv\"):\n",
    "        # Lese die normalisierten Spektraldaten ein\n",
    "        file_path = os.path.join(folder_path, file_name)\n",
    "        normalized_absorbance = np.loadtxt(file_path, delimiter=',')\n",
    "        # Speichere die Länge des Spektrums\n",
    "        spectra_lengths.append(len(normalized_absorbance))\n",
    "\n",
    "# Bestimme die minimale, maximale und durchschnittliche Länge der Spektren\n",
    "min_length = min(spectra_lengths)\n",
    "max_length = max(spectra_lengths)\n",
    "average_length = sum(spectra_lengths) / len(spectra_lengths)\n",
    "\n",
    "print(\"Minimale Länge der Spektren:\", min_length)\n",
    "print(\"Maximale Länge der Spektren:\", max_length)\n",
    "print(\"Durchschnittliche Länge der Spektren:\", average_length)\n"
   ]
  },
  {
   "cell_type": "code",
   "execution_count": null,
   "id": "9b9d7bb2",
   "metadata": {},
   "outputs": [],
   "source": []
  }
 ],
 "metadata": {
  "kernelspec": {
   "display_name": "Python 3 (ipykernel)",
   "language": "python",
   "name": "python3"
  },
  "language_info": {
   "codemirror_mode": {
    "name": "ipython",
    "version": 3
   },
   "file_extension": ".py",
   "mimetype": "text/x-python",
   "name": "python",
   "nbconvert_exporter": "python",
   "pygments_lexer": "ipython3",
   "version": "3.11.5"
  }
 },
 "nbformat": 4,
 "nbformat_minor": 5
}
